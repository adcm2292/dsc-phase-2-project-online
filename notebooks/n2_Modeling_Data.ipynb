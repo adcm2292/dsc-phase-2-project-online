{
 "cells": [
  {
   "cell_type": "markdown",
   "metadata": {},
   "source": [
    "## Modeling"
   ]
  },
  {
   "cell_type": "code",
   "execution_count": 5,
   "metadata": {},
   "outputs": [],
   "source": [
    "import pandas as pd\n",
    "import matplotlib.pyplot as plt\n",
    "import numpy as np\n",
    "import seaborn as sns\n",
    "\n",
    "from statsmodels.formula.api import ols\n",
    "from statsmodels.stats.outliers_influence import variance_inflation_factor\n",
    "import statsmodels.api as sm\n",
    "import scipy.stats as stats\n",
    "from sklearn.model_selection import train_test_split\n",
    "\n",
    "%store -r df1"
   ]
  },
  {
   "cell_type": "code",
   "execution_count": 6,
   "metadata": {},
   "outputs": [
    {
     "data": {
      "text/html": [
       "<div>\n",
       "<style scoped>\n",
       "    .dataframe tbody tr th:only-of-type {\n",
       "        vertical-align: middle;\n",
       "    }\n",
       "\n",
       "    .dataframe tbody tr th {\n",
       "        vertical-align: top;\n",
       "    }\n",
       "\n",
       "    .dataframe thead th {\n",
       "        text-align: right;\n",
       "    }\n",
       "</style>\n",
       "<table border=\"1\" class=\"dataframe\">\n",
       "  <thead>\n",
       "    <tr style=\"text-align: right;\">\n",
       "      <th></th>\n",
       "      <th>distance_seattle</th>\n",
       "      <th>property_age</th>\n",
       "      <th>rooms_per_floor</th>\n",
       "      <th>sqft_lot</th>\n",
       "      <th>sqft_living</th>\n",
       "      <th>price</th>\n",
       "      <th>renovation_1</th>\n",
       "      <th>renovation_unknown</th>\n",
       "      <th>waterfront_1</th>\n",
       "      <th>waterfront_unknown</th>\n",
       "    </tr>\n",
       "  </thead>\n",
       "  <tbody>\n",
       "    <tr>\n",
       "      <th>count</th>\n",
       "      <td>14328.000000</td>\n",
       "      <td>14328.000000</td>\n",
       "      <td>14328.000000</td>\n",
       "      <td>1.432800e+04</td>\n",
       "      <td>14328.000000</td>\n",
       "      <td>14328.000000</td>\n",
       "      <td>14328.000000</td>\n",
       "      <td>14328.000000</td>\n",
       "      <td>14328.000000</td>\n",
       "      <td>14328.000000</td>\n",
       "    </tr>\n",
       "    <tr>\n",
       "      <th>mean</th>\n",
       "      <td>10.637792</td>\n",
       "      <td>47.677136</td>\n",
       "      <td>3.708012</td>\n",
       "      <td>1.070549e+04</td>\n",
       "      <td>1685.060441</td>\n",
       "      <td>430268.904453</td>\n",
       "      <td>0.028197</td>\n",
       "      <td>0.179299</td>\n",
       "      <td>0.002443</td>\n",
       "      <td>0.110483</td>\n",
       "    </tr>\n",
       "    <tr>\n",
       "      <th>std</th>\n",
       "      <td>5.885533</td>\n",
       "      <td>29.764941</td>\n",
       "      <td>1.133331</td>\n",
       "      <td>2.541274e+04</td>\n",
       "      <td>527.717693</td>\n",
       "      <td>163521.948393</td>\n",
       "      <td>0.165540</td>\n",
       "      <td>0.383616</td>\n",
       "      <td>0.049366</td>\n",
       "      <td>0.313502</td>\n",
       "    </tr>\n",
       "    <tr>\n",
       "      <th>min</th>\n",
       "      <td>0.330000</td>\n",
       "      <td>-1.000000</td>\n",
       "      <td>0.750000</td>\n",
       "      <td>5.200000e+02</td>\n",
       "      <td>370.000000</td>\n",
       "      <td>78000.000000</td>\n",
       "      <td>0.000000</td>\n",
       "      <td>0.000000</td>\n",
       "      <td>0.000000</td>\n",
       "      <td>0.000000</td>\n",
       "    </tr>\n",
       "    <tr>\n",
       "      <th>25%</th>\n",
       "      <td>5.490000</td>\n",
       "      <td>23.000000</td>\n",
       "      <td>2.750000</td>\n",
       "      <td>4.534000e+03</td>\n",
       "      <td>1280.000000</td>\n",
       "      <td>300000.000000</td>\n",
       "      <td>0.000000</td>\n",
       "      <td>0.000000</td>\n",
       "      <td>0.000000</td>\n",
       "      <td>0.000000</td>\n",
       "    </tr>\n",
       "    <tr>\n",
       "      <th>50%</th>\n",
       "      <td>9.850000</td>\n",
       "      <td>47.000000</td>\n",
       "      <td>3.380000</td>\n",
       "      <td>7.110000e+03</td>\n",
       "      <td>1650.000000</td>\n",
       "      <td>409900.000000</td>\n",
       "      <td>0.000000</td>\n",
       "      <td>0.000000</td>\n",
       "      <td>0.000000</td>\n",
       "      <td>0.000000</td>\n",
       "    </tr>\n",
       "    <tr>\n",
       "      <th>75%</th>\n",
       "      <td>15.220000</td>\n",
       "      <td>67.000000</td>\n",
       "      <td>4.750000</td>\n",
       "      <td>9.450000e+03</td>\n",
       "      <td>2080.000000</td>\n",
       "      <td>540625.000000</td>\n",
       "      <td>0.000000</td>\n",
       "      <td>0.000000</td>\n",
       "      <td>0.000000</td>\n",
       "      <td>0.000000</td>\n",
       "    </tr>\n",
       "    <tr>\n",
       "      <th>max</th>\n",
       "      <td>22.810000</td>\n",
       "      <td>115.000000</td>\n",
       "      <td>6.000000</td>\n",
       "      <td>1.164794e+06</td>\n",
       "      <td>2830.000000</td>\n",
       "      <td>873000.000000</td>\n",
       "      <td>1.000000</td>\n",
       "      <td>1.000000</td>\n",
       "      <td>1.000000</td>\n",
       "      <td>1.000000</td>\n",
       "    </tr>\n",
       "  </tbody>\n",
       "</table>\n",
       "</div>"
      ],
      "text/plain": [
       "       distance_seattle  property_age  rooms_per_floor      sqft_lot  \\\n",
       "count      14328.000000  14328.000000     14328.000000  1.432800e+04   \n",
       "mean          10.637792     47.677136         3.708012  1.070549e+04   \n",
       "std            5.885533     29.764941         1.133331  2.541274e+04   \n",
       "min            0.330000     -1.000000         0.750000  5.200000e+02   \n",
       "25%            5.490000     23.000000         2.750000  4.534000e+03   \n",
       "50%            9.850000     47.000000         3.380000  7.110000e+03   \n",
       "75%           15.220000     67.000000         4.750000  9.450000e+03   \n",
       "max           22.810000    115.000000         6.000000  1.164794e+06   \n",
       "\n",
       "        sqft_living          price  renovation_1  renovation_unknown  \\\n",
       "count  14328.000000   14328.000000  14328.000000        14328.000000   \n",
       "mean    1685.060441  430268.904453      0.028197            0.179299   \n",
       "std      527.717693  163521.948393      0.165540            0.383616   \n",
       "min      370.000000   78000.000000      0.000000            0.000000   \n",
       "25%     1280.000000  300000.000000      0.000000            0.000000   \n",
       "50%     1650.000000  409900.000000      0.000000            0.000000   \n",
       "75%     2080.000000  540625.000000      0.000000            0.000000   \n",
       "max     2830.000000  873000.000000      1.000000            1.000000   \n",
       "\n",
       "       waterfront_1  waterfront_unknown  \n",
       "count  14328.000000        14328.000000  \n",
       "mean       0.002443            0.110483  \n",
       "std        0.049366            0.313502  \n",
       "min        0.000000            0.000000  \n",
       "25%        0.000000            0.000000  \n",
       "50%        0.000000            0.000000  \n",
       "75%        0.000000            0.000000  \n",
       "max        1.000000            1.000000  "
      ]
     },
     "execution_count": 6,
     "metadata": {},
     "output_type": "execute_result"
    }
   ],
   "source": [
    "df1.describe()"
   ]
  },
  {
   "cell_type": "markdown",
   "metadata": {},
   "source": [
    "### Check vif for multicollinearity"
   ]
  },
  {
   "cell_type": "code",
   "execution_count": 7,
   "metadata": {},
   "outputs": [],
   "source": [
    "x_variables = ['sqft_living', 'waterfront_1', 'distance_seattle', 'property_age', \n",
    "               'renovation_1', 'rooms_per_floor', 'sqft_lot']\n",
    "X = df1[x_variables]"
   ]
  },
  {
   "cell_type": "code",
   "execution_count": 8,
   "metadata": {},
   "outputs": [
    {
     "data": {
      "text/plain": [
       "sqft_living          8.188414\n",
       "waterfront_1         1.009818\n",
       "distance_seattle     5.074414\n",
       "property_age         3.928248\n",
       "renovation_1         1.070720\n",
       "rooms_per_floor     12.387571\n",
       "sqft_lot             1.246398\n",
       "dtype: float64"
      ]
     },
     "execution_count": 8,
     "metadata": {},
     "output_type": "execute_result"
    }
   ],
   "source": [
    "pd.Series([variance_inflation_factor(X.values, i) for i in range(X.shape[1])],\n",
    "          index=X.columns)"
   ]
  },
  {
   "cell_type": "code",
   "execution_count": 144,
   "metadata": {},
   "outputs": [],
   "source": [
    "outcome = 'price'\n",
    "x_variables = ['sqft_living', 'waterfront_1', 'distance_seattle','property_age']"
   ]
  },
  {
   "cell_type": "code",
   "execution_count": 145,
   "metadata": {
    "scrolled": true
   },
   "outputs": [
    {
     "data": {
      "text/html": [
       "<table class=\"simpletable\">\n",
       "<caption>OLS Regression Results</caption>\n",
       "<tr>\n",
       "  <th>Dep. Variable:</th>          <td>price</td>      <th>  R-squared (uncentered):</th>       <td>   0.922</td>  \n",
       "</tr>\n",
       "<tr>\n",
       "  <th>Model:</th>                   <td>OLS</td>       <th>  Adj. R-squared (uncentered):</th>  <td>   0.922</td>  \n",
       "</tr>\n",
       "<tr>\n",
       "  <th>Method:</th>             <td>Least Squares</td>  <th>  F-statistic:       </th>           <td>4.242e+04</td> \n",
       "</tr>\n",
       "<tr>\n",
       "  <th>Date:</th>             <td>Mon, 05 Oct 2020</td> <th>  Prob (F-statistic):</th>            <td>  0.00</td>   \n",
       "</tr>\n",
       "<tr>\n",
       "  <th>Time:</th>                 <td>19:14:39</td>     <th>  Log-Likelihood:    </th>          <td>-1.8887e+05</td>\n",
       "</tr>\n",
       "<tr>\n",
       "  <th>No. Observations:</th>      <td> 14328</td>      <th>  AIC:               </th>           <td>3.778e+05</td> \n",
       "</tr>\n",
       "<tr>\n",
       "  <th>Df Residuals:</th>          <td> 14324</td>      <th>  BIC:               </th>           <td>3.778e+05</td> \n",
       "</tr>\n",
       "<tr>\n",
       "  <th>Df Model:</th>              <td>     4</td>      <th>                     </th>               <td> </td>     \n",
       "</tr>\n",
       "<tr>\n",
       "  <th>Covariance Type:</th>      <td>nonrobust</td>    <th>                     </th>               <td> </td>     \n",
       "</tr>\n",
       "</table>\n",
       "<table class=\"simpletable\">\n",
       "<tr>\n",
       "          <td></td>            <th>coef</th>     <th>std err</th>      <th>t</th>      <th>P>|t|</th>  <th>[0.025</th>    <th>0.975]</th>  \n",
       "</tr>\n",
       "<tr>\n",
       "  <th>sqft_living</th>      <td>  269.8897</td> <td>    1.448</td> <td>  186.405</td> <td> 0.000</td> <td>  267.052</td> <td>  272.728</td>\n",
       "</tr>\n",
       "<tr>\n",
       "  <th>waterfront_1</th>     <td> 1.699e+05</td> <td> 2.18e+04</td> <td>    7.804</td> <td> 0.000</td> <td> 1.27e+05</td> <td> 2.13e+05</td>\n",
       "</tr>\n",
       "<tr>\n",
       "  <th>distance_seattle</th> <td>-9744.0303</td> <td>  177.544</td> <td>  -54.882</td> <td> 0.000</td> <td>-1.01e+04</td> <td>-9396.021</td>\n",
       "</tr>\n",
       "<tr>\n",
       "  <th>property_age</th>     <td> 1408.9863</td> <td>   29.513</td> <td>   47.741</td> <td> 0.000</td> <td> 1351.137</td> <td> 1466.836</td>\n",
       "</tr>\n",
       "</table>\n",
       "<table class=\"simpletable\">\n",
       "<tr>\n",
       "  <th>Omnibus:</th>       <td>44.968</td> <th>  Durbin-Watson:     </th> <td>   1.954</td>\n",
       "</tr>\n",
       "<tr>\n",
       "  <th>Prob(Omnibus):</th> <td> 0.000</td> <th>  Jarque-Bera (JB):  </th> <td>  56.358</td>\n",
       "</tr>\n",
       "<tr>\n",
       "  <th>Skew:</th>          <td>-0.049</td> <th>  Prob(JB):          </th> <td>5.78e-13</td>\n",
       "</tr>\n",
       "<tr>\n",
       "  <th>Kurtosis:</th>      <td> 3.291</td> <th>  Cond. No.          </th> <td>3.58e+04</td>\n",
       "</tr>\n",
       "</table><br/><br/>Notes:<br/>[1] R² is computed without centering (uncentered) since the model does not contain a constant.<br/>[2] Standard Errors assume that the covariance matrix of the errors is correctly specified.<br/>[3] The condition number is large, 3.58e+04. This might indicate that there are<br/>strong multicollinearity or other numerical problems."
      ],
      "text/plain": [
       "<class 'statsmodels.iolib.summary.Summary'>\n",
       "\"\"\"\n",
       "                                 OLS Regression Results                                \n",
       "=======================================================================================\n",
       "Dep. Variable:                  price   R-squared (uncentered):                   0.922\n",
       "Model:                            OLS   Adj. R-squared (uncentered):              0.922\n",
       "Method:                 Least Squares   F-statistic:                          4.242e+04\n",
       "Date:                Mon, 05 Oct 2020   Prob (F-statistic):                        0.00\n",
       "Time:                        19:14:39   Log-Likelihood:                     -1.8887e+05\n",
       "No. Observations:               14328   AIC:                                  3.778e+05\n",
       "Df Residuals:                   14324   BIC:                                  3.778e+05\n",
       "Df Model:                           4                                                  \n",
       "Covariance Type:            nonrobust                                                  \n",
       "====================================================================================\n",
       "                       coef    std err          t      P>|t|      [0.025      0.975]\n",
       "------------------------------------------------------------------------------------\n",
       "sqft_living        269.8897      1.448    186.405      0.000     267.052     272.728\n",
       "waterfront_1      1.699e+05   2.18e+04      7.804      0.000    1.27e+05    2.13e+05\n",
       "distance_seattle -9744.0303    177.544    -54.882      0.000   -1.01e+04   -9396.021\n",
       "property_age      1408.9863     29.513     47.741      0.000    1351.137    1466.836\n",
       "==============================================================================\n",
       "Omnibus:                       44.968   Durbin-Watson:                   1.954\n",
       "Prob(Omnibus):                  0.000   Jarque-Bera (JB):               56.358\n",
       "Skew:                          -0.049   Prob(JB):                     5.78e-13\n",
       "Kurtosis:                       3.291   Cond. No.                     3.58e+04\n",
       "==============================================================================\n",
       "\n",
       "Notes:\n",
       "[1] R² is computed without centering (uncentered) since the model does not contain a constant.\n",
       "[2] Standard Errors assume that the covariance matrix of the errors is correctly specified.\n",
       "[3] The condition number is large, 3.58e+04. This might indicate that there are\n",
       "strong multicollinearity or other numerical problems.\n",
       "\"\"\""
      ]
     },
     "execution_count": 145,
     "metadata": {},
     "output_type": "execute_result"
    }
   ],
   "source": [
    "predictors = '+'.join(x_variables)\n",
    "formula = outcome + '~' + predictors + '-1'\n",
    "model = ols(formula=formula, data=df1).fit()\n",
    "model.summary()"
   ]
  },
  {
   "cell_type": "markdown",
   "metadata": {},
   "source": [
    "* *R-squared* and *Adj. R-squared* take on the same value which by itself means 92% of observations can be explain by our model.\n",
    "* Our p-vaues are all 0, which means our parameters are significant."
   ]
  },
  {
   "cell_type": "markdown",
   "metadata": {},
   "source": [
    "### Homoscedasticity"
   ]
  },
  {
   "cell_type": "code",
   "execution_count": 146,
   "metadata": {},
   "outputs": [
    {
     "data": {
      "text/plain": [
       "[<matplotlib.lines.Line2D at 0x7f3e4b024e48>]"
      ]
     },
     "execution_count": 146,
     "metadata": {},
     "output_type": "execute_result"
    },
    {
     "data": {
      "image/png": "[encoded data removed]",
      "text/plain": [
       "<Figure size 432x288 with 1 Axes>"
      ]
     },
     "metadata": {
      "needs_background": "light"
     },
     "output_type": "display_data"
    }
   ],
   "source": [
    "plt.scatter(model.predict(df1[x_variables]), model.resid)\n",
    "plt.plot(model.predict(df1[x_variables]), [0 for i in range(len(df1))])"
   ]
  },
  {
   "cell_type": "markdown",
   "metadata": {},
   "source": [
    "### Plotting our model"
   ]
  },
  {
   "cell_type": "code",
   "execution_count": 147,
   "metadata": {},
   "outputs": [
    {
     "data": {
      "image/png": "[encoded data removed]",
      "text/plain": [
       "<Figure size 432x288 with 1 Axes>"
      ]
     },
     "metadata": {
      "needs_background": "light"
     },
     "output_type": "display_data"
    }
   ],
   "source": [
    "fig = sm.graphics.qqplot(model.resid, dist=stats.norm, line='45', fit=True)"
   ]
  },
  {
   "cell_type": "code",
   "execution_count": 148,
   "metadata": {},
   "outputs": [],
   "source": [
    "## Train Test"
   ]
  },
  {
   "cell_type": "code",
   "execution_count": 149,
   "metadata": {},
   "outputs": [],
   "source": [
    "y = df1[['price']]\n",
    "X_train, X_test, y_train, y_test = train_test_split(X, y, test_size=0.2, random_state=42)"
   ]
  },
  {
   "cell_type": "code",
   "execution_count": 150,
   "metadata": {},
   "outputs": [
    {
     "name": "stdout",
     "output_type": "stream",
     "text": [
      "11462 2866 11462 2866\n"
     ]
    }
   ],
   "source": [
    "print(len(X_train), len(X_test), len(y_train), len(y_test))"
   ]
  },
  {
   "cell_type": "code",
   "execution_count": 152,
   "metadata": {},
   "outputs": [],
   "source": [
    "from sklearn.linear_model import LinearRegression\n",
    "lin_reg = LinearRegression()\n",
    "lin_reg.fit(X_train, y_train)\n",
    "\n",
    "y_hat_train = lin_reg.predict(X_train)\n",
    "y_hat_test = lin_reg.predict(X_test)"
   ]
  },
  {
   "cell_type": "markdown",
   "metadata": {},
   "source": [
    "### Residuals and MSE"
   ]
  },
  {
   "cell_type": "code",
   "execution_count": 154,
   "metadata": {},
   "outputs": [],
   "source": [
    "train_residuals = y_hat_train - y_train\n",
    "test_residuals = y_hat_test - y_test"
   ]
  },
  {
   "cell_type": "code",
   "execution_count": 156,
   "metadata": {},
   "outputs": [
    {
     "name": "stdout",
     "output_type": "stream",
     "text": [
      "Train Mean Squarred Error: 13344180055.466454\n",
      "Test Mean Squarred Error: 13321004033.78375\n"
     ]
    }
   ],
   "source": [
    "from sklearn.metrics import mean_squared_error, make_scorer\n",
    "\n",
    "train_mse = mean_squared_error(y_train, y_hat_train)\n",
    "test_mse = mean_squared_error(y_test, y_hat_test)\n",
    "print('Train Mean Squarred Error:', train_mse)\n",
    "print('Test Mean Squarred Error:', test_mse)"
   ]
  },
  {
   "cell_type": "markdown",
   "metadata": {},
   "source": [
    "### CrossValidating our Model"
   ]
  },
  {
   "cell_type": "code",
   "execution_count": 157,
   "metadata": {},
   "outputs": [],
   "source": [
    "from sklearn.model_selection import cross_val_score"
   ]
  },
  {
   "cell_type": "code",
   "execution_count": 159,
   "metadata": {},
   "outputs": [],
   "source": [
    "mse = make_scorer(mean_squared_error)\n",
    "cv_5_results = cross_val_score(lin_reg, X, y, cv=5, scoring=mse)"
   ]
  },
  {
   "cell_type": "code",
   "execution_count": 160,
   "metadata": {},
   "outputs": [
    {
     "data": {
      "text/plain": [
       "13372114384.12827"
      ]
     },
     "execution_count": 160,
     "metadata": {},
     "output_type": "execute_result"
    }
   ],
   "source": [
    "cv_5_results.mean()"
   ]
  }
 ],
 "metadata": {
  "kernelspec": {
   "display_name": "Python 3",
   "language": "python",
   "name": "python3"
  },
  "language_info": {
   "codemirror_mode": {
    "name": "ipython",
    "version": 3
   },
   "file_extension": ".py",
   "mimetype": "text/x-python",
   "name": "python",
   "nbconvert_exporter": "python",
   "pygments_lexer": "ipython3",
   "version": "3.6.9"
  }
 },
 "nbformat": 4,
 "nbformat_minor": 4
}
