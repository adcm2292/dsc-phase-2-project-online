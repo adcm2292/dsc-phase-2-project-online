{
 "cells": [
  {
   "cell_type": "markdown",
   "metadata": {},
   "source": [
    "## Second Trial"
   ]
  },
  {
   "cell_type": "code",
   "execution_count": 1,
   "metadata": {},
   "outputs": [],
   "source": [
    "import pandas as pd\n",
    "import matplotlib.pyplot as plt\n",
    "import numpy as np\n",
    "import seaborn as sns\n",
    "\n",
    "from statsmodels.formula.api import ols\n",
    "from statsmodels.stats.outliers_influence import variance_inflation_factor\n",
    "import statsmodels.api as sm\n",
    "import scipy.stats as stats\n",
    "from sklearn.model_selection import train_test_split\n",
    "\n",
    "\n",
    "%store -r df1"
   ]
  },
  {
   "cell_type": "code",
   "execution_count": 2,
   "metadata": {},
   "outputs": [
    {
     "data": {
      "text/html": [
       "<div>\n",
       "<style scoped>\n",
       "    .dataframe tbody tr th:only-of-type {\n",
       "        vertical-align: middle;\n",
       "    }\n",
       "\n",
       "    .dataframe tbody tr th {\n",
       "        vertical-align: top;\n",
       "    }\n",
       "\n",
       "    .dataframe thead th {\n",
       "        text-align: right;\n",
       "    }\n",
       "</style>\n",
       "<table border=\"1\" class=\"dataframe\">\n",
       "  <thead>\n",
       "    <tr style=\"text-align: right;\">\n",
       "      <th></th>\n",
       "      <th>distance_seattle</th>\n",
       "      <th>property_age</th>\n",
       "      <th>rooms_per_floor</th>\n",
       "      <th>sqft_lot</th>\n",
       "      <th>sqft_living</th>\n",
       "      <th>price</th>\n",
       "      <th>renovation_1</th>\n",
       "      <th>renovation_unknown</th>\n",
       "      <th>waterfront_1</th>\n",
       "      <th>waterfront_unknown</th>\n",
       "    </tr>\n",
       "  </thead>\n",
       "  <tbody>\n",
       "    <tr>\n",
       "      <th>count</th>\n",
       "      <td>15742.000000</td>\n",
       "      <td>15742.000000</td>\n",
       "      <td>15742.000000</td>\n",
       "      <td>15742.000000</td>\n",
       "      <td>15742.000000</td>\n",
       "      <td>15742.000000</td>\n",
       "      <td>15742.000000</td>\n",
       "      <td>15742.000000</td>\n",
       "      <td>15742.000000</td>\n",
       "      <td>15742.000000</td>\n",
       "    </tr>\n",
       "    <tr>\n",
       "      <th>mean</th>\n",
       "      <td>10.363642</td>\n",
       "      <td>46.145090</td>\n",
       "      <td>3.985293</td>\n",
       "      <td>7254.739169</td>\n",
       "      <td>1840.128827</td>\n",
       "      <td>450911.570576</td>\n",
       "      <td>0.027315</td>\n",
       "      <td>0.179456</td>\n",
       "      <td>0.001461</td>\n",
       "      <td>0.111485</td>\n",
       "    </tr>\n",
       "    <tr>\n",
       "      <th>std</th>\n",
       "      <td>5.518193</td>\n",
       "      <td>29.510392</td>\n",
       "      <td>1.427181</td>\n",
       "      <td>3752.395860</td>\n",
       "      <td>672.382422</td>\n",
       "      <td>171196.157571</td>\n",
       "      <td>0.163006</td>\n",
       "      <td>0.383746</td>\n",
       "      <td>0.038197</td>\n",
       "      <td>0.314742</td>\n",
       "    </tr>\n",
       "    <tr>\n",
       "      <th>min</th>\n",
       "      <td>0.330000</td>\n",
       "      <td>-1.000000</td>\n",
       "      <td>0.750000</td>\n",
       "      <td>520.000000</td>\n",
       "      <td>370.000000</td>\n",
       "      <td>78000.000000</td>\n",
       "      <td>0.000000</td>\n",
       "      <td>0.000000</td>\n",
       "      <td>0.000000</td>\n",
       "      <td>0.000000</td>\n",
       "    </tr>\n",
       "    <tr>\n",
       "      <th>25%</th>\n",
       "      <td>5.610000</td>\n",
       "      <td>21.000000</td>\n",
       "      <td>3.000000</td>\n",
       "      <td>4750.000000</td>\n",
       "      <td>1340.000000</td>\n",
       "      <td>315000.000000</td>\n",
       "      <td>0.000000</td>\n",
       "      <td>0.000000</td>\n",
       "      <td>0.000000</td>\n",
       "      <td>0.000000</td>\n",
       "    </tr>\n",
       "    <tr>\n",
       "      <th>50%</th>\n",
       "      <td>9.805000</td>\n",
       "      <td>46.000000</td>\n",
       "      <td>3.750000</td>\n",
       "      <td>7168.500000</td>\n",
       "      <td>1750.000000</td>\n",
       "      <td>428000.000000</td>\n",
       "      <td>0.000000</td>\n",
       "      <td>0.000000</td>\n",
       "      <td>0.000000</td>\n",
       "      <td>0.000000</td>\n",
       "    </tr>\n",
       "    <tr>\n",
       "      <th>75%</th>\n",
       "      <td>14.380000</td>\n",
       "      <td>66.000000</td>\n",
       "      <td>4.750000</td>\n",
       "      <td>9219.750000</td>\n",
       "      <td>2256.000000</td>\n",
       "      <td>569000.000000</td>\n",
       "      <td>0.000000</td>\n",
       "      <td>0.000000</td>\n",
       "      <td>0.000000</td>\n",
       "      <td>0.000000</td>\n",
       "    </tr>\n",
       "    <tr>\n",
       "      <th>max</th>\n",
       "      <td>22.250000</td>\n",
       "      <td>115.000000</td>\n",
       "      <td>11.500000</td>\n",
       "      <td>21370.000000</td>\n",
       "      <td>5820.000000</td>\n",
       "      <td>856600.000000</td>\n",
       "      <td>1.000000</td>\n",
       "      <td>1.000000</td>\n",
       "      <td>1.000000</td>\n",
       "      <td>1.000000</td>\n",
       "    </tr>\n",
       "  </tbody>\n",
       "</table>\n",
       "</div>"
      ],
      "text/plain": [
       "       distance_seattle  property_age  rooms_per_floor      sqft_lot  \\\n",
       "count      15742.000000  15742.000000     15742.000000  15742.000000   \n",
       "mean          10.363642     46.145090         3.985293   7254.739169   \n",
       "std            5.518193     29.510392         1.427181   3752.395860   \n",
       "min            0.330000     -1.000000         0.750000    520.000000   \n",
       "25%            5.610000     21.000000         3.000000   4750.000000   \n",
       "50%            9.805000     46.000000         3.750000   7168.500000   \n",
       "75%           14.380000     66.000000         4.750000   9219.750000   \n",
       "max           22.250000    115.000000        11.500000  21370.000000   \n",
       "\n",
       "        sqft_living          price  renovation_1  renovation_unknown  \\\n",
       "count  15742.000000   15742.000000  15742.000000        15742.000000   \n",
       "mean    1840.128827  450911.570576      0.027315            0.179456   \n",
       "std      672.382422  171196.157571      0.163006            0.383746   \n",
       "min      370.000000   78000.000000      0.000000            0.000000   \n",
       "25%     1340.000000  315000.000000      0.000000            0.000000   \n",
       "50%     1750.000000  428000.000000      0.000000            0.000000   \n",
       "75%     2256.000000  569000.000000      0.000000            0.000000   \n",
       "max     5820.000000  856600.000000      1.000000            1.000000   \n",
       "\n",
       "       waterfront_1  waterfront_unknown  \n",
       "count  15742.000000        15742.000000  \n",
       "mean       0.001461            0.111485  \n",
       "std        0.038197            0.314742  \n",
       "min        0.000000            0.000000  \n",
       "25%        0.000000            0.000000  \n",
       "50%        0.000000            0.000000  \n",
       "75%        0.000000            0.000000  \n",
       "max        1.000000            1.000000  "
      ]
     },
     "execution_count": 2,
     "metadata": {},
     "output_type": "execute_result"
    }
   ],
   "source": [
    "df1.describe()"
   ]
  },
  {
   "cell_type": "markdown",
   "metadata": {},
   "source": [
    "### Defining the Problem\n",
    "We'll replace 'sqft_lot' with 'sqft_living' and remove 'waterfront_1' for this trial."
   ]
  },
  {
   "cell_type": "code",
   "execution_count": 3,
   "metadata": {},
   "outputs": [],
   "source": [
    "x_variables = ['sqft_living', 'distance_seattle', 'property_age']\n",
    "outcome = 'price'\n",
    "X = df1[x_variables] "
   ]
  },
  {
   "cell_type": "markdown",
   "metadata": {},
   "source": [
    "### Checking for Multicollinearity"
   ]
  },
  {
   "cell_type": "code",
   "execution_count": 4,
   "metadata": {},
   "outputs": [
    {
     "data": {
      "text/plain": [
       "sqft_living         5.089413\n",
       "distance_seattle    4.008493\n",
       "property_age        2.135195\n",
       "dtype: float64"
      ]
     },
     "execution_count": 4,
     "metadata": {},
     "output_type": "execute_result"
    }
   ],
   "source": [
    "pd.Series([variance_inflation_factor(X.values, i) for i in range(X.shape[1])],\n",
    "          index=X.columns)"
   ]
  },
  {
   "cell_type": "markdown",
   "metadata": {},
   "source": [
    "VIF scores dropped a few decimal points."
   ]
  },
  {
   "cell_type": "markdown",
   "metadata": {},
   "source": [
    "### Fitting our Model"
   ]
  },
  {
   "cell_type": "code",
   "execution_count": 5,
   "metadata": {},
   "outputs": [
    {
     "data": {
      "text/html": [
       "<table class=\"simpletable\">\n",
       "<caption>OLS Regression Results</caption>\n",
       "<tr>\n",
       "  <th>Dep. Variable:</th>          <td>price</td>      <th>  R-squared (uncentered):</th>       <td>   0.919</td>  \n",
       "</tr>\n",
       "<tr>\n",
       "  <th>Model:</th>                   <td>OLS</td>       <th>  Adj. R-squared (uncentered):</th>  <td>   0.919</td>  \n",
       "</tr>\n",
       "<tr>\n",
       "  <th>Method:</th>             <td>Least Squares</td>  <th>  F-statistic:       </th>           <td>5.976e+04</td> \n",
       "</tr>\n",
       "<tr>\n",
       "  <th>Date:</th>             <td>Fri, 09 Oct 2020</td> <th>  Prob (F-statistic):</th>            <td>  0.00</td>   \n",
       "</tr>\n",
       "<tr>\n",
       "  <th>Time:</th>                 <td>12:29:38</td>     <th>  Log-Likelihood:    </th>          <td>-2.0853e+05</td>\n",
       "</tr>\n",
       "<tr>\n",
       "  <th>No. Observations:</th>      <td> 15742</td>      <th>  AIC:               </th>           <td>4.171e+05</td> \n",
       "</tr>\n",
       "<tr>\n",
       "  <th>Df Residuals:</th>          <td> 15739</td>      <th>  BIC:               </th>           <td>4.171e+05</td> \n",
       "</tr>\n",
       "<tr>\n",
       "  <th>Df Model:</th>              <td>     3</td>      <th>                     </th>               <td> </td>     \n",
       "</tr>\n",
       "<tr>\n",
       "  <th>Covariance Type:</th>      <td>nonrobust</td>    <th>                     </th>               <td> </td>     \n",
       "</tr>\n",
       "</table>\n",
       "<table class=\"simpletable\">\n",
       "<tr>\n",
       "          <td></td>            <th>coef</th>     <th>std err</th>      <th>t</th>      <th>P>|t|</th>  <th>[0.025</th>    <th>0.975]</th>  \n",
       "</tr>\n",
       "<tr>\n",
       "  <th>sqft_living</th>      <td>  239.6262</td> <td>    1.258</td> <td>  190.525</td> <td> 0.000</td> <td>  237.161</td> <td>  242.091</td>\n",
       "</tr>\n",
       "<tr>\n",
       "  <th>distance_seattle</th> <td>-8169.6727</td> <td>  186.247</td> <td>  -43.865</td> <td> 0.000</td> <td>-8534.739</td> <td>-7804.607</td>\n",
       "</tr>\n",
       "<tr>\n",
       "  <th>property_age</th>     <td> 1730.2172</td> <td>   29.138</td> <td>   59.381</td> <td> 0.000</td> <td> 1673.104</td> <td> 1787.330</td>\n",
       "</tr>\n",
       "</table>\n",
       "<table class=\"simpletable\">\n",
       "<tr>\n",
       "  <th>Omnibus:</th>       <td>133.948</td> <th>  Durbin-Watson:     </th> <td>   1.934</td>\n",
       "</tr>\n",
       "<tr>\n",
       "  <th>Prob(Omnibus):</th> <td> 0.000</td>  <th>  Jarque-Bera (JB):  </th> <td> 157.717</td>\n",
       "</tr>\n",
       "<tr>\n",
       "  <th>Skew:</th>          <td>-0.167</td>  <th>  Prob(JB):          </th> <td>5.65e-35</td>\n",
       "</tr>\n",
       "<tr>\n",
       "  <th>Kurtosis:</th>      <td> 3.360</td>  <th>  Cond. No.          </th> <td>    334.</td>\n",
       "</tr>\n",
       "</table><br/><br/>Notes:<br/>[1] R² is computed without centering (uncentered) since the model does not contain a constant.<br/>[2] Standard Errors assume that the covariance matrix of the errors is correctly specified."
      ],
      "text/plain": [
       "<class 'statsmodels.iolib.summary.Summary'>\n",
       "\"\"\"\n",
       "                                 OLS Regression Results                                \n",
       "=======================================================================================\n",
       "Dep. Variable:                  price   R-squared (uncentered):                   0.919\n",
       "Model:                            OLS   Adj. R-squared (uncentered):              0.919\n",
       "Method:                 Least Squares   F-statistic:                          5.976e+04\n",
       "Date:                Fri, 09 Oct 2020   Prob (F-statistic):                        0.00\n",
       "Time:                        12:29:38   Log-Likelihood:                     -2.0853e+05\n",
       "No. Observations:               15742   AIC:                                  4.171e+05\n",
       "Df Residuals:                   15739   BIC:                                  4.171e+05\n",
       "Df Model:                           3                                                  \n",
       "Covariance Type:            nonrobust                                                  \n",
       "====================================================================================\n",
       "                       coef    std err          t      P>|t|      [0.025      0.975]\n",
       "------------------------------------------------------------------------------------\n",
       "sqft_living        239.6262      1.258    190.525      0.000     237.161     242.091\n",
       "distance_seattle -8169.6727    186.247    -43.865      0.000   -8534.739   -7804.607\n",
       "property_age      1730.2172     29.138     59.381      0.000    1673.104    1787.330\n",
       "==============================================================================\n",
       "Omnibus:                      133.948   Durbin-Watson:                   1.934\n",
       "Prob(Omnibus):                  0.000   Jarque-Bera (JB):              157.717\n",
       "Skew:                          -0.167   Prob(JB):                     5.65e-35\n",
       "Kurtosis:                       3.360   Cond. No.                         334.\n",
       "==============================================================================\n",
       "\n",
       "Notes:\n",
       "[1] R² is computed without centering (uncentered) since the model does not contain a constant.\n",
       "[2] Standard Errors assume that the covariance matrix of the errors is correctly specified.\n",
       "\"\"\""
      ]
     },
     "execution_count": 5,
     "metadata": {},
     "output_type": "execute_result"
    }
   ],
   "source": [
    "predictors = '+'.join(x_variables)\n",
    "formula = outcome + '~' + predictors + '-1'\n",
    "model = ols(formula=formula, data=df1).fit()\n",
    "model.summary()"
   ]
  },
  {
   "cell_type": "markdown",
   "metadata": {},
   "source": [
    "* *R-squared* and *Adj. R-squared* take on the same value which by itself means about 91.9% of observations can be explained by our model. This is a good number.\n",
    "* p-values are all zero which means our features are statistically significant."
   ]
  },
  {
   "cell_type": "markdown",
   "metadata": {},
   "source": [
    "### Homoscedasticity"
   ]
  },
  {
   "cell_type": "code",
   "execution_count": 6,
   "metadata": {},
   "outputs": [
    {
     "data": {
      "text/plain": [
       "[<matplotlib.lines.Line2D at 0x7fa2176e2c18>]"
      ]
     },
     "execution_count": 6,
     "metadata": {},
     "output_type": "execute_result"
    },
    {
     "data": {
      "image/png": "[encoded data removed]",
      "text/plain": [
       "<Figure size 432x288 with 1 Axes>"
      ]
     },
     "metadata": {
      "needs_background": "light"
     },
     "output_type": "display_data"
    }
   ],
   "source": [
    "plt.scatter(model.predict(df1[x_variables]), model.resid)\n",
    "plt.plot(model.predict(df1[x_variables]), [0 for i in range(len(df1))])"
   ]
  },
  {
   "cell_type": "code",
   "execution_count": 7,
   "metadata": {},
   "outputs": [
    {
     "data": {
      "image/png": "[encoded data removed]",
      "text/plain": [
       "<Figure size 432x288 with 1 Axes>"
      ]
     },
     "metadata": {
      "needs_background": "light"
     },
     "output_type": "display_data"
    }
   ],
   "source": [
    "fig = sm.graphics.qqplot(model.resid, dist=stats.norm, line='45', fit=True)"
   ]
  },
  {
   "cell_type": "markdown",
   "metadata": {},
   "source": [
    "## Train Test"
   ]
  },
  {
   "cell_type": "code",
   "execution_count": 8,
   "metadata": {},
   "outputs": [],
   "source": [
    "y = df1[['price']]\n",
    "X_train, X_test, y_train, y_test = train_test_split(X, y, test_size=0.2, random_state=42)"
   ]
  },
  {
   "cell_type": "code",
   "execution_count": 9,
   "metadata": {},
   "outputs": [
    {
     "name": "stdout",
     "output_type": "stream",
     "text": [
      "12593 3149 12593 3149\n"
     ]
    }
   ],
   "source": [
    "print(len(X_train), len(X_test), len(y_train), len(y_test))"
   ]
  },
  {
   "cell_type": "code",
   "execution_count": 10,
   "metadata": {},
   "outputs": [],
   "source": [
    "from sklearn.linear_model import LinearRegression\n",
    "lin_reg = LinearRegression()\n",
    "lin_reg.fit(X_train, y_train)\n",
    "\n",
    "y_hat_train = lin_reg.predict(X_train)\n",
    "y_hat_test = lin_reg.predict(X_test)"
   ]
  },
  {
   "cell_type": "markdown",
   "metadata": {},
   "source": [
    "### Residuals and MSE"
   ]
  },
  {
   "cell_type": "code",
   "execution_count": 11,
   "metadata": {},
   "outputs": [],
   "source": [
    "train_residuals = y_hat_train - y_train\n",
    "test_residuals = y_hat_test - y_test"
   ]
  },
  {
   "cell_type": "code",
   "execution_count": 12,
   "metadata": {},
   "outputs": [
    {
     "name": "stdout",
     "output_type": "stream",
     "text": [
      "Train Mean Squarred Error: 14155994095.318829\n",
      "Test Mean Squarred Error: 13745444854.444008\n"
     ]
    }
   ],
   "source": [
    "from sklearn.metrics import mean_squared_error, make_scorer\n",
    "\n",
    "train_mse = mean_squared_error(y_train, y_hat_train)\n",
    "test_mse = mean_squared_error(y_test, y_hat_test)\n",
    "print('Train Mean Squarred Error:', train_mse)\n",
    "print('Test Mean Squarred Error:', test_mse)"
   ]
  },
  {
   "cell_type": "markdown",
   "metadata": {},
   "source": [
    "### CrossValidating our Model"
   ]
  },
  {
   "cell_type": "code",
   "execution_count": 13,
   "metadata": {},
   "outputs": [],
   "source": [
    "from sklearn.model_selection import cross_val_score"
   ]
  },
  {
   "cell_type": "code",
   "execution_count": 14,
   "metadata": {},
   "outputs": [],
   "source": [
    "mse = make_scorer(mean_squared_error)\n",
    "cv_5_results = cross_val_score(lin_reg, X, y, cv=5, scoring=mse)"
   ]
  },
  {
   "cell_type": "code",
   "execution_count": 15,
   "metadata": {},
   "outputs": [
    {
     "data": {
      "text/plain": [
       "14121993908.14033"
      ]
     },
     "execution_count": 15,
     "metadata": {},
     "output_type": "execute_result"
    }
   ],
   "source": [
    "cv_5_results.mean()"
   ]
  },
  {
   "cell_type": "markdown",
   "metadata": {},
   "source": [
    "* Now this model looks a lot better than the first one. \n",
    "* On the next notebook (n4) I will add 'waterfront_1' to the features considered for this model. \n",
    "* On notebook n5 I will repeat the experiment to add 'renovation_1' and see if it improves our model."
   ]
  },
  {
   "cell_type": "markdown",
   "metadata": {},
   "source": [
    "### Final Thoughts and Conclusion"
   ]
  },
  {
   "cell_type": "markdown",
   "metadata": {},
   "source": [
    "* After performing experiments mentioned above on notebooks n4 and n5 our model did not improve enough so I am concluding the best model is the one contained in the present notebook.\n",
    "* Our Best Model indicates that we could effectively predict the price of a house in around 92% of observations    with the following features:\n",
    "    * Size: footage of the home (living space).\n",
    "    * Location: distance from the center or economic hub.\n",
    "    * Property Age: how many years ago a house was built."
   ]
  }
 ],
 "metadata": {
  "kernelspec": {
   "display_name": "Python 3",
   "language": "python",
   "name": "python3"
  },
  "language_info": {
   "codemirror_mode": {
    "name": "ipython",
    "version": 3
   },
   "file_extension": ".py",
   "mimetype": "text/x-python",
   "name": "python",
   "nbconvert_exporter": "python",
   "pygments_lexer": "ipython3",
   "version": "3.6.9"
  }
 },
 "nbformat": 4,
 "nbformat_minor": 4
}
