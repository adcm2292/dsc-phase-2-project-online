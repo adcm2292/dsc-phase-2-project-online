{
 "cells": [
  {
   "cell_type": "code",
   "execution_count": 48,
   "metadata": {},
   "outputs": [],
   "source": [
    "import pandas as pd\n",
    "import matplotlib.pyplot as plt\n",
    "import numpy as np\n",
    "import seaborn as sns\n",
    "\n",
    "from statsmodels.formula.api import ols\n",
    "from statsmodels.stats.outliers_influence import variance_inflation_factor\n",
    "import statsmodels.api as sm\n",
    "import scipy.stats as stats\n",
    "from sklearn.model_selection import train_test_split\n",
    "\n",
    "\n",
    "%store -r df1"
   ]
  },
  {
   "cell_type": "code",
   "execution_count": 49,
   "metadata": {},
   "outputs": [
    {
     "data": {
      "text/html": [
       "<div>\n",
       "<style scoped>\n",
       "    .dataframe tbody tr th:only-of-type {\n",
       "        vertical-align: middle;\n",
       "    }\n",
       "\n",
       "    .dataframe tbody tr th {\n",
       "        vertical-align: top;\n",
       "    }\n",
       "\n",
       "    .dataframe thead th {\n",
       "        text-align: right;\n",
       "    }\n",
       "</style>\n",
       "<table border=\"1\" class=\"dataframe\">\n",
       "  <thead>\n",
       "    <tr style=\"text-align: right;\">\n",
       "      <th></th>\n",
       "      <th>distance_seattle</th>\n",
       "      <th>property_age</th>\n",
       "      <th>rooms_per_floor</th>\n",
       "      <th>sqft_lot</th>\n",
       "      <th>sqft_living</th>\n",
       "      <th>price</th>\n",
       "      <th>renovation_1</th>\n",
       "      <th>renovation_unknown</th>\n",
       "      <th>waterfront_1</th>\n",
       "      <th>waterfront_unknown</th>\n",
       "    </tr>\n",
       "  </thead>\n",
       "  <tbody>\n",
       "    <tr>\n",
       "      <th>count</th>\n",
       "      <td>14328.000000</td>\n",
       "      <td>14328.000000</td>\n",
       "      <td>14328.000000</td>\n",
       "      <td>1.432800e+04</td>\n",
       "      <td>14328.000000</td>\n",
       "      <td>14328.000000</td>\n",
       "      <td>14328.000000</td>\n",
       "      <td>14328.000000</td>\n",
       "      <td>14328.000000</td>\n",
       "      <td>14328.000000</td>\n",
       "    </tr>\n",
       "    <tr>\n",
       "      <th>mean</th>\n",
       "      <td>10.637792</td>\n",
       "      <td>47.677136</td>\n",
       "      <td>3.708012</td>\n",
       "      <td>1.070549e+04</td>\n",
       "      <td>1685.060441</td>\n",
       "      <td>430268.904453</td>\n",
       "      <td>0.028197</td>\n",
       "      <td>0.179299</td>\n",
       "      <td>0.002443</td>\n",
       "      <td>0.110483</td>\n",
       "    </tr>\n",
       "    <tr>\n",
       "      <th>std</th>\n",
       "      <td>5.885533</td>\n",
       "      <td>29.764941</td>\n",
       "      <td>1.133331</td>\n",
       "      <td>2.541274e+04</td>\n",
       "      <td>527.717693</td>\n",
       "      <td>163521.948393</td>\n",
       "      <td>0.165540</td>\n",
       "      <td>0.383616</td>\n",
       "      <td>0.049366</td>\n",
       "      <td>0.313502</td>\n",
       "    </tr>\n",
       "    <tr>\n",
       "      <th>min</th>\n",
       "      <td>0.330000</td>\n",
       "      <td>-1.000000</td>\n",
       "      <td>0.750000</td>\n",
       "      <td>5.200000e+02</td>\n",
       "      <td>370.000000</td>\n",
       "      <td>78000.000000</td>\n",
       "      <td>0.000000</td>\n",
       "      <td>0.000000</td>\n",
       "      <td>0.000000</td>\n",
       "      <td>0.000000</td>\n",
       "    </tr>\n",
       "    <tr>\n",
       "      <th>25%</th>\n",
       "      <td>5.490000</td>\n",
       "      <td>23.000000</td>\n",
       "      <td>2.750000</td>\n",
       "      <td>4.534000e+03</td>\n",
       "      <td>1280.000000</td>\n",
       "      <td>300000.000000</td>\n",
       "      <td>0.000000</td>\n",
       "      <td>0.000000</td>\n",
       "      <td>0.000000</td>\n",
       "      <td>0.000000</td>\n",
       "    </tr>\n",
       "    <tr>\n",
       "      <th>50%</th>\n",
       "      <td>9.850000</td>\n",
       "      <td>47.000000</td>\n",
       "      <td>3.380000</td>\n",
       "      <td>7.110000e+03</td>\n",
       "      <td>1650.000000</td>\n",
       "      <td>409900.000000</td>\n",
       "      <td>0.000000</td>\n",
       "      <td>0.000000</td>\n",
       "      <td>0.000000</td>\n",
       "      <td>0.000000</td>\n",
       "    </tr>\n",
       "    <tr>\n",
       "      <th>75%</th>\n",
       "      <td>15.220000</td>\n",
       "      <td>67.000000</td>\n",
       "      <td>4.750000</td>\n",
       "      <td>9.450000e+03</td>\n",
       "      <td>2080.000000</td>\n",
       "      <td>540625.000000</td>\n",
       "      <td>0.000000</td>\n",
       "      <td>0.000000</td>\n",
       "      <td>0.000000</td>\n",
       "      <td>0.000000</td>\n",
       "    </tr>\n",
       "    <tr>\n",
       "      <th>max</th>\n",
       "      <td>22.810000</td>\n",
       "      <td>115.000000</td>\n",
       "      <td>6.000000</td>\n",
       "      <td>1.164794e+06</td>\n",
       "      <td>2830.000000</td>\n",
       "      <td>873000.000000</td>\n",
       "      <td>1.000000</td>\n",
       "      <td>1.000000</td>\n",
       "      <td>1.000000</td>\n",
       "      <td>1.000000</td>\n",
       "    </tr>\n",
       "  </tbody>\n",
       "</table>\n",
       "</div>"
      ],
      "text/plain": [
       "       distance_seattle  property_age  rooms_per_floor      sqft_lot  \\\n",
       "count      14328.000000  14328.000000     14328.000000  1.432800e+04   \n",
       "mean          10.637792     47.677136         3.708012  1.070549e+04   \n",
       "std            5.885533     29.764941         1.133331  2.541274e+04   \n",
       "min            0.330000     -1.000000         0.750000  5.200000e+02   \n",
       "25%            5.490000     23.000000         2.750000  4.534000e+03   \n",
       "50%            9.850000     47.000000         3.380000  7.110000e+03   \n",
       "75%           15.220000     67.000000         4.750000  9.450000e+03   \n",
       "max           22.810000    115.000000         6.000000  1.164794e+06   \n",
       "\n",
       "        sqft_living          price  renovation_1  renovation_unknown  \\\n",
       "count  14328.000000   14328.000000  14328.000000        14328.000000   \n",
       "mean    1685.060441  430268.904453      0.028197            0.179299   \n",
       "std      527.717693  163521.948393      0.165540            0.383616   \n",
       "min      370.000000   78000.000000      0.000000            0.000000   \n",
       "25%     1280.000000  300000.000000      0.000000            0.000000   \n",
       "50%     1650.000000  409900.000000      0.000000            0.000000   \n",
       "75%     2080.000000  540625.000000      0.000000            0.000000   \n",
       "max     2830.000000  873000.000000      1.000000            1.000000   \n",
       "\n",
       "       waterfront_1  waterfront_unknown  \n",
       "count  14328.000000        14328.000000  \n",
       "mean       0.002443            0.110483  \n",
       "std        0.049366            0.313502  \n",
       "min        0.000000            0.000000  \n",
       "25%        0.000000            0.000000  \n",
       "50%        0.000000            0.000000  \n",
       "75%        0.000000            0.000000  \n",
       "max        1.000000            1.000000  "
      ]
     },
     "execution_count": 49,
     "metadata": {},
     "output_type": "execute_result"
    }
   ],
   "source": [
    "df1.describe()"
   ]
  },
  {
   "cell_type": "code",
   "execution_count": 39,
   "metadata": {},
   "outputs": [],
   "source": [
    "x_variables = ['sqft_lot', 'distance_seattle', 'property_age', 'waterfront_1', 'renovation_1']\n",
    "X = df1[x_variables] "
   ]
  },
  {
   "cell_type": "code",
   "execution_count": 40,
   "metadata": {},
   "outputs": [
    {
     "data": {
      "text/plain": [
       "sqft_lot            1.244617\n",
       "distance_seattle    1.893356\n",
       "property_age        1.776431\n",
       "waterfront_1        1.006974\n",
       "renovation_1        1.062608\n",
       "dtype: float64"
      ]
     },
     "execution_count": 40,
     "metadata": {},
     "output_type": "execute_result"
    }
   ],
   "source": [
    "pd.Series([variance_inflation_factor(X.values, i) for i in range(X.shape[1])],\n",
    "          index=X.columns)"
   ]
  },
  {
   "cell_type": "code",
   "execution_count": 41,
   "metadata": {},
   "outputs": [
    {
     "data": {
      "text/html": [
       "<table class=\"simpletable\">\n",
       "<caption>OLS Regression Results</caption>\n",
       "<tr>\n",
       "  <th>Dep. Variable:</th>          <td>price</td>      <th>  R-squared (uncentered):</th>       <td>   0.734</td>  \n",
       "</tr>\n",
       "<tr>\n",
       "  <th>Model:</th>                   <td>OLS</td>       <th>  Adj. R-squared (uncentered):</th>  <td>   0.734</td>  \n",
       "</tr>\n",
       "<tr>\n",
       "  <th>Method:</th>             <td>Least Squares</td>  <th>  F-statistic:       </th>           <td>   7916.</td>  \n",
       "</tr>\n",
       "<tr>\n",
       "  <th>Date:</th>             <td>Tue, 06 Oct 2020</td> <th>  Prob (F-statistic):</th>            <td>  0.00</td>   \n",
       "</tr>\n",
       "<tr>\n",
       "  <th>Time:</th>                 <td>15:10:20</td>     <th>  Log-Likelihood:    </th>          <td>-1.9767e+05</td>\n",
       "</tr>\n",
       "<tr>\n",
       "  <th>No. Observations:</th>      <td> 14328</td>      <th>  AIC:               </th>           <td>3.953e+05</td> \n",
       "</tr>\n",
       "<tr>\n",
       "  <th>Df Residuals:</th>          <td> 14323</td>      <th>  BIC:               </th>           <td>3.954e+05</td> \n",
       "</tr>\n",
       "<tr>\n",
       "  <th>Df Model:</th>              <td>     5</td>      <th>                     </th>               <td> </td>     \n",
       "</tr>\n",
       "<tr>\n",
       "  <th>Covariance Type:</th>      <td>nonrobust</td>    <th>                     </th>               <td> </td>     \n",
       "</tr>\n",
       "</table>\n",
       "<table class=\"simpletable\">\n",
       "<tr>\n",
       "          <td></td>            <th>coef</th>     <th>std err</th>      <th>t</th>      <th>P>|t|</th>  <th>[0.025</th>    <th>0.975]</th>  \n",
       "</tr>\n",
       "<tr>\n",
       "  <th>sqft_lot</th>         <td>    0.5197</td> <td>    0.080</td> <td>    6.479</td> <td> 0.000</td> <td>    0.362</td> <td>    0.677</td>\n",
       "</tr>\n",
       "<tr>\n",
       "  <th>distance_seattle</th> <td> 1.505e+04</td> <td>  224.389</td> <td>   67.088</td> <td> 0.000</td> <td> 1.46e+04</td> <td> 1.55e+04</td>\n",
       "</tr>\n",
       "<tr>\n",
       "  <th>property_age</th>     <td> 4330.9496</td> <td>   47.013</td> <td>   92.121</td> <td> 0.000</td> <td> 4238.797</td> <td> 4423.102</td>\n",
       "</tr>\n",
       "<tr>\n",
       "  <th>waterfront_1</th>     <td> 3.935e+04</td> <td> 4.03e+04</td> <td>    0.978</td> <td> 0.328</td> <td>-3.96e+04</td> <td> 1.18e+05</td>\n",
       "</tr>\n",
       "<tr>\n",
       "  <th>renovation_1</th>     <td>   3.5e+04</td> <td> 1.22e+04</td> <td>    2.876</td> <td> 0.004</td> <td> 1.11e+04</td> <td> 5.89e+04</td>\n",
       "</tr>\n",
       "</table>\n",
       "<table class=\"simpletable\">\n",
       "<tr>\n",
       "  <th>Omnibus:</th>       <td>173.044</td> <th>  Durbin-Watson:     </th> <td>   1.701</td>\n",
       "</tr>\n",
       "<tr>\n",
       "  <th>Prob(Omnibus):</th> <td> 0.000</td>  <th>  Jarque-Bera (JB):  </th> <td> 140.252</td>\n",
       "</tr>\n",
       "<tr>\n",
       "  <th>Skew:</th>          <td> 0.170</td>  <th>  Prob(JB):          </th> <td>3.50e-31</td>\n",
       "</tr>\n",
       "<tr>\n",
       "  <th>Kurtosis:</th>      <td> 2.655</td>  <th>  Cond. No.          </th> <td>5.60e+05</td>\n",
       "</tr>\n",
       "</table><br/><br/>Notes:<br/>[1] R² is computed without centering (uncentered) since the model does not contain a constant.<br/>[2] Standard Errors assume that the covariance matrix of the errors is correctly specified.<br/>[3] The condition number is large, 5.6e+05. This might indicate that there are<br/>strong multicollinearity or other numerical problems."
      ],
      "text/plain": [
       "<class 'statsmodels.iolib.summary.Summary'>\n",
       "\"\"\"\n",
       "                                 OLS Regression Results                                \n",
       "=======================================================================================\n",
       "Dep. Variable:                  price   R-squared (uncentered):                   0.734\n",
       "Model:                            OLS   Adj. R-squared (uncentered):              0.734\n",
       "Method:                 Least Squares   F-statistic:                              7916.\n",
       "Date:                Tue, 06 Oct 2020   Prob (F-statistic):                        0.00\n",
       "Time:                        15:10:20   Log-Likelihood:                     -1.9767e+05\n",
       "No. Observations:               14328   AIC:                                  3.953e+05\n",
       "Df Residuals:                   14323   BIC:                                  3.954e+05\n",
       "Df Model:                           5                                                  \n",
       "Covariance Type:            nonrobust                                                  \n",
       "====================================================================================\n",
       "                       coef    std err          t      P>|t|      [0.025      0.975]\n",
       "------------------------------------------------------------------------------------\n",
       "sqft_lot             0.5197      0.080      6.479      0.000       0.362       0.677\n",
       "distance_seattle  1.505e+04    224.389     67.088      0.000    1.46e+04    1.55e+04\n",
       "property_age      4330.9496     47.013     92.121      0.000    4238.797    4423.102\n",
       "waterfront_1      3.935e+04   4.03e+04      0.978      0.328   -3.96e+04    1.18e+05\n",
       "renovation_1        3.5e+04   1.22e+04      2.876      0.004    1.11e+04    5.89e+04\n",
       "==============================================================================\n",
       "Omnibus:                      173.044   Durbin-Watson:                   1.701\n",
       "Prob(Omnibus):                  0.000   Jarque-Bera (JB):              140.252\n",
       "Skew:                           0.170   Prob(JB):                     3.50e-31\n",
       "Kurtosis:                       2.655   Cond. No.                     5.60e+05\n",
       "==============================================================================\n",
       "\n",
       "Notes:\n",
       "[1] R² is computed without centering (uncentered) since the model does not contain a constant.\n",
       "[2] Standard Errors assume that the covariance matrix of the errors is correctly specified.\n",
       "[3] The condition number is large, 5.6e+05. This might indicate that there are\n",
       "strong multicollinearity or other numerical problems.\n",
       "\"\"\""
      ]
     },
     "execution_count": 41,
     "metadata": {},
     "output_type": "execute_result"
    }
   ],
   "source": [
    "outcome = 'price'\n",
    "x_variables = ['sqft_lot', 'distance_seattle','property_age', 'waterfront_1', 'renovation_1']\n",
    "\n",
    "predictors = '+'.join(x_variables)\n",
    "formula = outcome + '~' + predictors + '-1'\n",
    "model = ols(formula=formula, data=df1).fit()\n",
    "model.summary()"
   ]
  },
  {
   "cell_type": "code",
   "execution_count": 42,
   "metadata": {},
   "outputs": [
    {
     "data": {
      "text/plain": [
       "[<matplotlib.lines.Line2D at 0x7fadeadca358>]"
      ]
     },
     "execution_count": 42,
     "metadata": {},
     "output_type": "execute_result"
    },
    {
     "data": {
      "image/png": "[encoded data removed]",
      "text/plain": [
       "<Figure size 432x288 with 1 Axes>"
      ]
     },
     "metadata": {
      "needs_background": "light"
     },
     "output_type": "display_data"
    }
   ],
   "source": [
    "plt.scatter(model.predict(df1[x_variables]), model.resid)\n",
    "plt.plot(model.predict(df1[x_variables]), [0 for i in range(len(df1))])"
   ]
  },
  {
   "cell_type": "code",
   "execution_count": 43,
   "metadata": {},
   "outputs": [
    {
     "data": {
      "image/png": "[encoded data removed]",
      "text/plain": [
       "<Figure size 432x288 with 1 Axes>"
      ]
     },
     "metadata": {
      "needs_background": "light"
     },
     "output_type": "display_data"
    }
   ],
   "source": [
    "fig = sm.graphics.qqplot(model.resid, dist=stats.norm, line='45', fit=True)"
   ]
  },
  {
   "cell_type": "code",
   "execution_count": null,
   "metadata": {},
   "outputs": [],
   "source": []
  }
 ],
 "metadata": {
  "kernelspec": {
   "display_name": "Python 3",
   "language": "python",
   "name": "python3"
  },
  "language_info": {
   "codemirror_mode": {
    "name": "ipython",
    "version": 3
   },
   "file_extension": ".py",
   "mimetype": "text/x-python",
   "name": "python",
   "nbconvert_exporter": "python",
   "pygments_lexer": "ipython3",
   "version": "3.6.9"
  }
 },
 "nbformat": 4,
 "nbformat_minor": 4
}
